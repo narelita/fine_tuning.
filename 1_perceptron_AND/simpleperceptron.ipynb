{
 "cells": [
  {
   "cell_type": "code",
   "execution_count": 160,
   "metadata": {},
   "outputs": [],
   "source": [
    "\n",
    "import numpy as np\n",
    "\n",
    "class Perceptron:\n",
    "    def __init__(self, inputsize, lr=0.1, epochs=10 ):\n",
    "        self.epochs = epochs\n",
    "        self.lr = lr\n",
    "        self.weights = np.zeros(inputsize+1)\n",
    "        #No return\n",
    "\n",
    "\n",
    "    def predict(self, X):\n",
    "        X_wb = np.c_[X, np.ones(X.shape[0])]\n",
    "        #X_wb = np.c_[X, 1]\n",
    "        pro = np.dot(X_wb,self.weights)\n",
    "        return(self.activation(pro))\n",
    "\n",
    "    def activation(self, x):\n",
    "        return(np.where(x>=0, 1, 0))\n",
    "    \n",
    "    \n",
    "    def fit(self, X, y):\n",
    "        #first, add a 1 for the bias\n",
    "        X_wb = np.c_[X, np.ones(X.shape[0])]\n",
    "\n",
    "        for _ in range(self.epochs):\n",
    "            for rx,ry in zip(X_wb, y):\n",
    "                output = self.activation(np.dot(rx,self.weights))\n",
    "                cost = self.lr * (ry-output)\n",
    "                self.weights += cost*rx\n"
   ]
  },
  {
   "cell_type": "code",
   "execution_count": 164,
   "metadata": {},
   "outputs": [
    {
     "name": "stdout",
     "output_type": "stream",
     "text": [
      "Final weights: [ 0.2  0.1 -0.2]\n",
      "Predictions:\n",
      "[1 1] -> [1]\n",
      "[0 1] -> [0]\n",
      "[1 0] -> [0]\n",
      "[0 0] -> [0]\n"
     ]
    }
   ],
   "source": [
    "if __name__ == \"__main__\":\n",
    "    a = np.array([[1,1],[0,1],[1,0],[0,0]])\n",
    "    b = np.array([1,0,0,0])\n",
    "    P_and = Perceptron(inputsize=2, lr=0.1, epochs=6)\n",
    "    P_and.fit(a, b)\n",
    "\n",
    "    print(\"Final weights:\", P_and.weights)\n",
    "\n",
    "    print(\"Predictions:\")\n",
    "    for x in a:\n",
    "        final = P_and.predict(np.array([x]))\n",
    "        print(f\"{x} -> {final}\")\n",
    "        #output = P\n",
    "        #print(f\"{x} -> {perceptron.predict(np.array([x]))[0]}\")\n",
    "\n"
   ]
  },
  {
   "cell_type": "code",
   "execution_count": 93,
   "metadata": {},
   "outputs": [
    {
     "name": "stdout",
     "output_type": "stream",
     "text": [
      "3\n"
     ]
    }
   ],
   "source": [
    "a=np.array([0,2,1])\n",
    "c = np.array([1,1,1])\n",
    "print(a.shape[0])\n",
    "b = np.c_[c, np.ones(a.shape[0])]"
   ]
  }
 ],
 "metadata": {
  "kernelspec": {
   "display_name": "Python 3",
   "language": "python",
   "name": "python3"
  },
  "language_info": {
   "codemirror_mode": {
    "name": "ipython",
    "version": 3
   },
   "file_extension": ".py",
   "mimetype": "text/x-python",
   "name": "python",
   "nbconvert_exporter": "python",
   "pygments_lexer": "ipython3",
   "version": "3.9.6"
  }
 },
 "nbformat": 4,
 "nbformat_minor": 2
}
